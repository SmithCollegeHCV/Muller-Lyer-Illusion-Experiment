{
 "cells": [
  {
   "cell_type": "code",
   "execution_count": 2,
   "metadata": {},
   "outputs": [],
   "source": [
    "import json\n",
    "import csv\n",
    "import pandas as pd\n",
    "\n",
    "inputFile = open(\"data.json\")\n",
    "data = json.load(inputFile)\n",
    "inputFile.close()\n",
    "dataFrame = pd.DataFrame(data = data)\n",
    "\n",
    "\n",
    "#DataFrame with time features\n",
    "dataFrame_withtime = dataFrame.loc[:,[\"postId\",\"workerId\",\"pageId\",\"conditionVersion\",\"s1\",\"s2\",\"s3\",\"s4\",\"s5\",\"s6\",\"age\",\"gender\",\"degree\",\"monitor\",\"comments\",\n",
    "                                     \"time_start_experiment\",\"time_end_experiment\",\"time_start_tutorial\",\"time_end_tutorial\",\"time_start_test\",\n",
    "                                     \"time_end_test\",\"time_start_demographics\",\"time_end_demographics\"]]\n",
    "dataFrame_withtime.to_csv(\"data_with_time.csv\", index = False)\n",
    "\n",
    "#DataFrame without time features\n",
    "dataFrame_notime = dataFrame.loc[:,[\"postId\",\"workerId\",\"pageId\",\"conditionVersion\",\"s1\",\"s2\",\"s3\",\"s4\",\"s5\",\"s6\",\"age\",\"gender\",\"degree\",\"monitor\",\"comments\"]]\n",
    "dataFrame_notime.to_csv(\"data_no_time.csv\", index = False)\n"
   ]
  },
  {
   "cell_type": "code",
   "execution_count": null,
   "metadata": {},
   "outputs": [],
   "source": []
  }
 ],
 "metadata": {
  "kernelspec": {
   "display_name": "Python 3",
   "language": "python",
   "name": "python3"
  },
  "language_info": {
   "codemirror_mode": {
    "name": "ipython",
    "version": 3
   },
   "file_extension": ".py",
   "mimetype": "text/x-python",
   "name": "python",
   "nbconvert_exporter": "python",
   "pygments_lexer": "ipython3",
   "version": "3.6.4"
  }
 },
 "nbformat": 4,
 "nbformat_minor": 2
}
